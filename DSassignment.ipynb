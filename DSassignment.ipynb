{
 "cells": [
  {
   "cell_type": "code",
   "execution_count": null,
   "id": "5ef87eab-afc2-48b4-9d42-09d2ff8a58ed",
   "metadata": {},
   "outputs": [],
   "source": []
  },
  {
   "cell_type": "markdown",
   "id": "acd8bb55-ca12-4acd-8528-f91e4826d8f9",
   "metadata": {},
   "source": [
    "## Data Science Final Project"
   ]
  },
  {
   "cell_type": "markdown",
   "id": "c459036a-d60d-458b-9948-ce7031cc89bc",
   "metadata": {},
   "source": [
    "## Introduction\n",
    "This notebook covers important concepts and exercises in data science."
   ]
  },
  {
   "cell_type": "markdown",
   "id": "24d276d9-0e6a-4fe8-bde8-f64dd010551a",
   "metadata": {},
   "source": [
    "## Data Science Languages\n",
    "- Python\n",
    "- R\n",
    "- SQL\n",
    "- Java\n",
    "- Julia\n",
    "- Scala"
   ]
  },
  {
   "cell_type": "markdown",
   "id": "c2375060-0903-449a-8010-1cbe51859812",
   "metadata": {},
   "source": [
    "## Data Science Libraries\n",
    "- NumPy\n",
    "- Pandas\n",
    "- Matplotlib\n",
    "- Seaborn\n",
    "- Scikit-learn\n",
    "- TensorFlow\n",
    "- PyTorch\n",
    "- Keras"
   ]
  },
  {
   "cell_type": "markdown",
   "id": "5fb1d5ff-0b76-483f-a202-2f5986ca0f11",
   "metadata": {},
   "source": [
    "## Data Science Tools\n",
    "| Tool          | Description |\n",
    "|--------------|-------------|\n",
    "| Jupyter Notebook | Interactive coding environment |\n",
    "| RStudio      | IDE for R programming |\n",
    "| Apache Spark | Big data processing framework |\n",
    "| TensorFlow   | Deep learning framework |\n",
    "| Power BI     | Business intelligence tool |"
   ]
  },
  {
   "cell_type": "markdown",
   "id": "d6dc1691-c1f3-4cc5-bd49-0c9e42000b15",
   "metadata": {},
   "source": [
    "## Arithmetic Expressions in Python\n",
    "Below are examples of arithmetic operations including addition and multiplication.\n"
   ]
  },
  {
   "cell_type": "code",
   "execution_count": 3,
   "id": "b87953c2-2c15-45f4-923a-500925d4f190",
   "metadata": {},
   "outputs": [
    {
     "name": "stdout",
     "output_type": "stream",
     "text": [
      "Result: 25\n"
     ]
    }
   ],
   "source": [
    "\n",
    "result = (5 * 3) + 10\n",
    "print(\"Result:\", result)\n"
   ]
  },
  {
   "cell_type": "code",
   "execution_count": 2,
   "id": "0e5bbd3b-3020-4598-8b26-bb2e13e735c8",
   "metadata": {},
   "outputs": [
    {
     "name": "stdout",
     "output_type": "stream",
     "text": [
      "150 minutes is equal to 2.50 hours\n"
     ]
    }
   ],
   "source": [
    "minutes = 150\n",
    "hours = minutes / 60\n",
    "print(f\"{minutes} minutes is equal to {hours:.2f} hours\")\n"
   ]
  },
  {
   "cell_type": "markdown",
   "id": "d8e931e9-f950-416d-90c2-3720daf29190",
   "metadata": {},
   "source": [
    "## Objectives\n",
    "- Understand different programming languages in data science.\n",
    "- Learn about data science libraries.\n",
    "- Use Jupyter Notebook for coding.\n",
    "- Perform arithmetic operations in Python.\n"
   ]
  },
  {
   "cell_type": "markdown",
   "id": "95edb6a6-73d8-4652-9edb-e8d319771408",
   "metadata": {},
   "source": [
    "## Author\n",
    "**Kushal Shah**\n"
   ]
  }
 ],
 "metadata": {
  "kernelspec": {
   "display_name": "Python 3 (ipykernel)",
   "language": "python",
   "name": "python3"
  },
  "language_info": {
   "codemirror_mode": {
    "name": "ipython",
    "version": 3
   },
   "file_extension": ".py",
   "mimetype": "text/x-python",
   "name": "python",
   "nbconvert_exporter": "python",
   "pygments_lexer": "ipython3",
   "version": "3.12.4"
  }
 },
 "nbformat": 4,
 "nbformat_minor": 5
}
